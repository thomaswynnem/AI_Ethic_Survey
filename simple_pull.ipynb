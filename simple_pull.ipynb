{
 "cells": [
  {
   "cell_type": "markdown",
   "id": "24380841",
   "metadata": {},
   "source": [
    "### *Survey Paper:* What is the Current Research on the Ethic of AI"
   ]
  },
  {
   "cell_type": "markdown",
   "id": "287373c2",
   "metadata": {},
   "source": [
    "#### Step 1: Pull Data From:\n",
    " * https://aclanthology.org/\n",
    " * https://www.institutional.org/institutional-books"
   ]
  },
  {
   "cell_type": "code",
   "execution_count": 49,
   "id": "90931451",
   "metadata": {},
   "outputs": [
    {
     "name": "stderr",
     "output_type": "stream",
     "text": [
      "c:\\Users\\thoma\\anaconda3\\envs\\NLP\\Lib\\site-packages\\acl_anthology\\anthology.py:96: SchemaMismatchWarning: Data directory contains a different schema.rnc as this library; you might need to update the data or the acl-anthology library.\n",
      "  warnings.warn(SchemaMismatchWarning())\n"
     ]
    }
   ],
   "source": [
    "from acl_anthology import Anthology\n",
    "anthology = Anthology.from_repo()"
   ]
  },
  {
   "cell_type": "code",
   "execution_count": null,
   "id": "94471c16",
   "metadata": {},
   "outputs": [
    {
     "name": "stderr",
     "output_type": "stream",
     "text": [
      "Unknown TeX-math command: \\choose\n",
      "Unknown TeX-math command: \\mathtt{MuMOInstruct}\n",
      "Unknown TeX-math command: \\mathtt{MuMOInstruct}\n",
      "Unknown TeX-math command: \\mathtt{GeLLM^3O}\n",
      "Unknown TeX-math command: \\mathtt{GeLLM^3O}\n",
      "Unknown TeX-math command: \\mathtt{GeLLM^3O}\n",
      "Unknown TeX-math command: \\mathtt{GeLLM^3O}\n",
      "Unknown TeX-math command: \\mathtt{MuMOInstruct}\n",
      "Unknown TeX-math command: \\textcolor{red}{100~trillion}\n",
      "Unknown TeX-math command: \\dots\n",
      "Unknown TeX-math command: \\mathbf\n",
      "Unknown TeX-math command: \\mathbf\n",
      "Unknown TeX-math command: \\mathbf\n",
      "Unknown TeX-math command: \\mathbf\n",
      "Unknown TeX-math command: \\mathbf\n",
      "Unknown TeX-math command: \\mathbf\n",
      "Unknown TeX-math command: \\mathbf\n",
      "Unknown TeX-math command: \\left\\lfloor\n",
      "Unknown TeX-math command: \\right\\rfloor\n",
      "Unknown TeX-math command: \\small{E}\n",
      "Unknown TeX-math command: \\normalsize{AR}\n",
      "Unknown TeX-math command: \\small{E}\n",
      "Unknown TeX-math command: \\normalsize{AR}\n",
      "Unknown TeX-math command: \\url{https://github.com/WalterPaci/IMPAQTS-PID}\n",
      "Unknown TeX-math command: \\lVert\n",
      "Unknown TeX-math command: \\rVert\n",
      "Unknown TeX-math command: \\textless\n",
      "Unknown TeX-math command: \\textgreater\n",
      "Unknown TeX-math command: \\textless\n",
      "Unknown TeX-math command: \\textgreater\n",
      "Unknown TeX-math command: \\colon\n"
     ]
    },
    {
     "data": {
      "text/plain": [
       "'\\ntext_papers_batch = [\\n    f\"{(d.title or \\'\\')}: {(d.abstract or \\'\\')}\"\\n    for d in papers\\n]'"
      ]
     },
     "execution_count": 50,
     "metadata": {},
     "output_type": "execute_result"
    }
   ],
   "source": [
    "from itertools import islice\n",
    "\n",
    "papers = anthology.papers()\n",
    "\n",
    "text_papers_batch = []\n",
    "\n",
    "for idx, paper in enumerate(papers, 0):\n",
    "    if paper.abstract:\n",
    "        text_papers_batch.append([f\"{str(paper.title)}: {str(paper.abstract)}\", paper.title, paper.abstract, paper.authors, idx])\n",
    "    else:\n",
    "        text_papers_batch.append([str(paper.title), paper.title, paper.abstract, paper.authors, id])\n",
    "\n",
    "# convert papers into structured inputs -> `{Title}: {Abstract}`\n",
    "'''\n",
    "text_papers_batch = [\n",
    "    f\"{(d.title or '')}: {(d.abstract or '')}\"\n",
    "    for d in papers\n",
    "]'''"
   ]
  },
  {
   "cell_type": "markdown",
   "id": "c4dfa597",
   "metadata": {},
   "source": [
    "#### Step 2: Parse for Key Words"
   ]
  },
  {
   "cell_type": "code",
   "execution_count": 51,
   "id": "f7943941",
   "metadata": {},
   "outputs": [],
   "source": [
    "from typing import List\n",
    "\n",
    "def words_in_paper(paper: str, words: List[str]) -> bool:\n",
    "\n",
    "    for word in words:\n",
    "        if word in paper:\n",
    "            return True\n",
    "    \n",
    "    return False"
   ]
  },
  {
   "cell_type": "code",
   "execution_count": 53,
   "id": "d9516357",
   "metadata": {},
   "outputs": [
    {
     "ename": "ValueError",
     "evalue": "not enough values to unpack (expected 5, got 3)",
     "output_type": "error",
     "traceback": [
      "\u001b[31m---------------------------------------------------------------------------\u001b[39m",
      "\u001b[31mValueError\u001b[39m                                Traceback (most recent call last)",
      "\u001b[36mCell\u001b[39m\u001b[36m \u001b[39m\u001b[32mIn[53]\u001b[39m\u001b[32m, line 4\u001b[39m\n\u001b[32m      1\u001b[39m first_iteration_papers = \u001b[38;5;28mset\u001b[39m()\n\u001b[32m      2\u001b[39m first_iteration_words = [\u001b[33m\"\u001b[39m\u001b[33methic\u001b[39m\u001b[33m\"\u001b[39m, \u001b[33m\"\u001b[39m\u001b[33mvirtue\u001b[39m\u001b[33m\"\u001b[39m, \u001b[33m\"\u001b[39m\u001b[33mdeontolog\u001b[39m\u001b[33m\"\u001b[39m, \u001b[33m\"\u001b[39m\u001b[33mcommon good\u001b[39m\u001b[33m\"\u001b[39m]\n\u001b[32m----> \u001b[39m\u001b[32m4\u001b[39m \u001b[38;5;28;01mfor\u001b[39;00m paper, title, abstract, authors, idx \u001b[38;5;129;01min\u001b[39;00m text_papers_batch:\n\u001b[32m      5\u001b[39m     \u001b[38;5;28;01mif\u001b[39;00m words_in_paper(paper, first_iteration_words):\n\u001b[32m      6\u001b[39m         first_iteration_papers.add([title, authors])\n",
      "\u001b[31mValueError\u001b[39m: not enough values to unpack (expected 5, got 3)"
     ]
    }
   ],
   "source": [
    "first_iteration_papers = set()\n",
    "first_iteration_words = [\"ethic\", \"virtue\", \"deontolog\", \"common good\"]\n",
    "\n",
    "for paper, title, abstract, authors, idx in text_papers_batch:\n",
    "    if words_in_paper(paper, first_iteration_words):\n",
    "        first_iteration_papers.add([title, authors])\n",
    "        print(title)"
   ]
  },
  {
   "cell_type": "code",
   "execution_count": null,
   "id": "aa1dc544",
   "metadata": {},
   "outputs": [
    {
     "name": "stdout",
     "output_type": "stream",
     "text": [
      "1356\n"
     ]
    }
   ],
   "source": []
  }
 ],
 "metadata": {
  "kernelspec": {
   "display_name": "NLP",
   "language": "python",
   "name": "python3"
  },
  "language_info": {
   "codemirror_mode": {
    "name": "ipython",
    "version": 3
   },
   "file_extension": ".py",
   "mimetype": "text/x-python",
   "name": "python",
   "nbconvert_exporter": "python",
   "pygments_lexer": "ipython3",
   "version": "3.13.7"
  }
 },
 "nbformat": 4,
 "nbformat_minor": 5
}
